{
 "cells": [
  {
   "cell_type": "markdown",
   "metadata": {},
   "source": [
    "# Docker"
   ]
  },
  {
   "cell_type": "code",
   "execution_count": null,
   "metadata": {},
   "outputs": [],
   "source": [
    "# Install required packages\n",
    "#!pip install docker kubernetes"
   ]
  },
  {
   "cell_type": "code",
   "execution_count": null,
   "metadata": {},
   "outputs": [],
   "source": [
    "# check the status of docker\n",
    "!docker info"
   ]
  },
  {
   "cell_type": "code",
   "execution_count": 1,
   "metadata": {},
   "outputs": [
    {
     "name": "stdout",
     "output_type": "stream",
     "text": [
      "^C\n"
     ]
    },
    {
     "name": "stderr",
     "output_type": "stream",
     "text": [
      "#0 building with \"default\" instance using docker driver\n",
      "\n",
      "#1 [internal] load build definition from Dockerfile\n",
      "#1 transferring dockerfile: 168B 0.0s done\n",
      "#1 DONE 0.1s\n",
      "\n",
      "#2 [internal] load metadata for docker.io/library/python:3.10.11\n",
      "#2 ...\n",
      "\n",
      "#3 [auth] library/python:pull token for registry-1.docker.io\n",
      "#3 DONE 0.0s\n",
      "\n",
      "#2 [internal] load metadata for docker.io/library/python:3.10.11\n",
      "#2 DONE 2.5s\n",
      "\n",
      "#4 [internal] load .dockerignore\n",
      "#4 transferring context: 2B done\n",
      "#4 DONE 0.1s\n",
      "\n",
      "#5 [internal] load build context\n",
      "#5 DONE 0.0s\n",
      "\n",
      "#6 [1/5] FROM docker.io/library/python:3.10.11@sha256:f5ef86211c0ef0db2e3059787088221602cad7e11b238246e406aa7bbd7edc41\n",
      "#6 resolve docker.io/library/python:3.10.11@sha256:f5ef86211c0ef0db2e3059787088221602cad7e11b238246e406aa7bbd7edc41 0.1s done\n",
      "#6 sha256:bd73737482dd5575526c7207872963479808d979ab2741c321706b8553918474 0B / 55.05MB 0.1s\n",
      "#6 sha256:f5ef86211c0ef0db2e3059787088221602cad7e11b238246e406aa7bbd7edc41 2.14kB / 2.14kB done\n",
      "#6 sha256:fc1d7d6e1df26c603b5729e92fff684a56e9d1b8c6db263c6169a1f250e80787 2.01kB / 2.01kB done\n",
      "#6 sha256:df5a406e137eda56633576e04364d360ca37be197ece80e9b4e45b90c67414ab 7.52kB / 7.52kB done\n",
      "#6 ...\n",
      "\n",
      "#5 [internal] load build context\n",
      "#5 transferring context: 92.63kB 0.2s done\n",
      "#5 DONE 0.4s\n",
      "\n",
      "#6 [1/5] FROM docker.io/library/python:3.10.11@sha256:f5ef86211c0ef0db2e3059787088221602cad7e11b238246e406aa7bbd7edc41\n",
      "#6 sha256:75256935197ed1bb3b994a77c01efa00349b901014448a260fafd9c3719a741d 0B / 54.58MB 0.2s\n",
      "#6 sha256:6710592d62aa1338ac1c1c363dedc255659f666cc41441c7e0f735c484db10ff 0B / 15.76MB 0.4s\n",
      "#6 sha256:bd73737482dd5575526c7207872963479808d979ab2741c321706b8553918474 3.15MB / 55.05MB 1.6s\n",
      "#6 sha256:75256935197ed1bb3b994a77c01efa00349b901014448a260fafd9c3719a741d 3.15MB / 54.58MB 1.9s\n",
      "#6 sha256:6710592d62aa1338ac1c1c363dedc255659f666cc41441c7e0f735c484db10ff 1.05MB / 15.76MB 1.9s\n",
      "#6 sha256:bd73737482dd5575526c7207872963479808d979ab2741c321706b8553918474 6.29MB / 55.05MB 2.4s\n",
      "#6 sha256:75256935197ed1bb3b994a77c01efa00349b901014448a260fafd9c3719a741d 7.34MB / 54.58MB 3.1s\n",
      "#6 sha256:6710592d62aa1338ac1c1c363dedc255659f666cc41441c7e0f735c484db10ff 2.10MB / 15.76MB 3.1s\n",
      "#6 sha256:bd73737482dd5575526c7207872963479808d979ab2741c321706b8553918474 9.44MB / 55.05MB 3.7s\n",
      "#6 sha256:75256935197ed1bb3b994a77c01efa00349b901014448a260fafd9c3719a741d 10.49MB / 54.58MB 3.9s\n",
      "#6 sha256:6710592d62aa1338ac1c1c363dedc255659f666cc41441c7e0f735c484db10ff 3.15MB / 15.76MB 4.4s\n",
      "#6 sha256:75256935197ed1bb3b994a77c01efa00349b901014448a260fafd9c3719a741d 13.63MB / 54.58MB 4.6s\n",
      "#6 sha256:bd73737482dd5575526c7207872963479808d979ab2741c321706b8553918474 12.58MB / 55.05MB 4.7s\n",
      "#6 sha256:75256935197ed1bb3b994a77c01efa00349b901014448a260fafd9c3719a741d 16.78MB / 54.58MB 5.4s\n",
      "#6 sha256:6710592d62aa1338ac1c1c363dedc255659f666cc41441c7e0f735c484db10ff 4.19MB / 15.76MB 5.4s\n",
      "#6 sha256:bd73737482dd5575526c7207872963479808d979ab2741c321706b8553918474 15.73MB / 55.05MB 5.8s\n",
      "#6 sha256:75256935197ed1bb3b994a77c01efa00349b901014448a260fafd9c3719a741d 19.92MB / 54.58MB 6.2s\n",
      "#6 sha256:6710592d62aa1338ac1c1c363dedc255659f666cc41441c7e0f735c484db10ff 5.24MB / 15.76MB 6.7s\n",
      "#6 sha256:bd73737482dd5575526c7207872963479808d979ab2741c321706b8553918474 18.87MB / 55.05MB 7.1s\n",
      "#6 sha256:75256935197ed1bb3b994a77c01efa00349b901014448a260fafd9c3719a741d 23.07MB / 54.58MB 7.2s\n",
      "#6 sha256:6710592d62aa1338ac1c1c363dedc255659f666cc41441c7e0f735c484db10ff 6.29MB / 15.76MB 7.6s\n",
      "#6 sha256:75256935197ed1bb3b994a77c01efa00349b901014448a260fafd9c3719a741d 26.21MB / 54.58MB 8.0s\n",
      "#6 sha256:bd73737482dd5575526c7207872963479808d979ab2741c321706b8553918474 22.02MB / 55.05MB 8.1s\n",
      "#6 sha256:6710592d62aa1338ac1c1c363dedc255659f666cc41441c7e0f735c484db10ff 7.34MB / 15.76MB 8.5s\n",
      "#6 sha256:75256935197ed1bb3b994a77c01efa00349b901014448a260fafd9c3719a741d 29.36MB / 54.58MB 8.8s\n",
      "#6 sha256:bd73737482dd5575526c7207872963479808d979ab2741c321706b8553918474 25.17MB / 55.05MB 9.2s\n",
      "#6 sha256:6710592d62aa1338ac1c1c363dedc255659f666cc41441c7e0f735c484db10ff 8.39MB / 15.76MB 9.4s\n",
      "#6 sha256:75256935197ed1bb3b994a77c01efa00349b901014448a260fafd9c3719a741d 32.51MB / 54.58MB 9.7s\n",
      "#6 sha256:6710592d62aa1338ac1c1c363dedc255659f666cc41441c7e0f735c484db10ff 9.44MB / 15.76MB 10.2s\n",
      "#6 sha256:bd73737482dd5575526c7207872963479808d979ab2741c321706b8553918474 28.31MB / 55.05MB 10.3s\n",
      "#6 sha256:75256935197ed1bb3b994a77c01efa00349b901014448a260fafd9c3719a741d 35.65MB / 54.58MB 10.4s\n",
      "#6 sha256:6710592d62aa1338ac1c1c363dedc255659f666cc41441c7e0f735c484db10ff 10.49MB / 15.76MB 11.1s\n",
      "#6 sha256:75256935197ed1bb3b994a77c01efa00349b901014448a260fafd9c3719a741d 38.80MB / 54.58MB 11.2s\n",
      "#6 sha256:bd73737482dd5575526c7207872963479808d979ab2741c321706b8553918474 31.46MB / 55.05MB 11.4s\n",
      "#6 sha256:6710592d62aa1338ac1c1c363dedc255659f666cc41441c7e0f735c484db10ff 11.53MB / 15.76MB 11.7s\n",
      "#6 sha256:75256935197ed1bb3b994a77c01efa00349b901014448a260fafd9c3719a741d 41.94MB / 54.58MB 12.1s\n",
      "#6 sha256:bd73737482dd5575526c7207872963479808d979ab2741c321706b8553918474 34.60MB / 55.05MB 12.3s\n",
      "#6 sha256:6710592d62aa1338ac1c1c363dedc255659f666cc41441c7e0f735c484db10ff 12.58MB / 15.76MB 12.5s\n",
      "#6 sha256:75256935197ed1bb3b994a77c01efa00349b901014448a260fafd9c3719a741d 45.09MB / 54.58MB 13.1s\n",
      "#6 sha256:6710592d62aa1338ac1c1c363dedc255659f666cc41441c7e0f735c484db10ff 13.63MB / 15.76MB 13.1s\n",
      "#6 sha256:bd73737482dd5575526c7207872963479808d979ab2741c321706b8553918474 37.75MB / 55.05MB 13.9s\n",
      "#6 sha256:6710592d62aa1338ac1c1c363dedc255659f666cc41441c7e0f735c484db10ff 14.68MB / 15.76MB 13.9s\n",
      "#6 sha256:75256935197ed1bb3b994a77c01efa00349b901014448a260fafd9c3719a741d 48.23MB / 54.58MB 14.4s\n",
      "#6 sha256:6710592d62aa1338ac1c1c363dedc255659f666cc41441c7e0f735c484db10ff 15.76MB / 15.76MB 14.5s done\n",
      "#6 sha256:c1e5026c64577dee4b6bac20b18196f964a41d8b9016fbbbada0c70b601cd5bf 0B / 196.85MB 14.7s\n",
      "#6 sha256:bd73737482dd5575526c7207872963479808d979ab2741c321706b8553918474 40.89MB / 55.05MB 15.5s\n",
      "#6 sha256:75256935197ed1bb3b994a77c01efa00349b901014448a260fafd9c3719a741d 51.38MB / 54.58MB 15.7s\n",
      "#6 sha256:bd73737482dd5575526c7207872963479808d979ab2741c321706b8553918474 44.04MB / 55.05MB 16.7s\n",
      "#6 sha256:75256935197ed1bb3b994a77c01efa00349b901014448a260fafd9c3719a741d 54.58MB / 54.58MB 16.5s done\n",
      "#6 sha256:f0016544b8b99a7e91472b231a8eb1af0aede28806efc821c60ca20b65fc1eb8 0B / 6.29MB 16.7s\n",
      "#6 sha256:f0016544b8b99a7e91472b231a8eb1af0aede28806efc821c60ca20b65fc1eb8 1.05MB / 6.29MB 17.0s\n",
      "#6 sha256:f0016544b8b99a7e91472b231a8eb1af0aede28806efc821c60ca20b65fc1eb8 2.10MB / 6.29MB 17.3s\n",
      "#6 sha256:f0016544b8b99a7e91472b231a8eb1af0aede28806efc821c60ca20b65fc1eb8 3.15MB / 6.29MB 17.7s\n",
      "#6 sha256:bd73737482dd5575526c7207872963479808d979ab2741c321706b8553918474 47.19MB / 55.05MB 18.1s\n",
      "#6 sha256:f0016544b8b99a7e91472b231a8eb1af0aede28806efc821c60ca20b65fc1eb8 4.19MB / 6.29MB 18.1s\n",
      "#6 sha256:f0016544b8b99a7e91472b231a8eb1af0aede28806efc821c60ca20b65fc1eb8 5.24MB / 6.29MB 18.5s\n",
      "#6 sha256:f0016544b8b99a7e91472b231a8eb1af0aede28806efc821c60ca20b65fc1eb8 6.29MB / 6.29MB 18.7s done\n",
      "#6 sha256:4aaf4c0feac84c0095f842fa458a29a8cddff8afeacaa3ca37a4c36a49c63689 0B / 17.34MB 18.8s\n",
      "#6 sha256:4aaf4c0feac84c0095f842fa458a29a8cddff8afeacaa3ca37a4c36a49c63689 1.05MB / 17.34MB 19.4s\n",
      "#6 sha256:bd73737482dd5575526c7207872963479808d979ab2741c321706b8553918474 50.33MB / 55.05MB 19.6s\n",
      "#6 sha256:4aaf4c0feac84c0095f842fa458a29a8cddff8afeacaa3ca37a4c36a49c63689 2.10MB / 17.34MB 19.6s\n",
      "#6 sha256:c1e5026c64577dee4b6bac20b18196f964a41d8b9016fbbbada0c70b601cd5bf 9.44MB / 196.85MB 19.8s\n",
      "#6 sha256:4aaf4c0feac84c0095f842fa458a29a8cddff8afeacaa3ca37a4c36a49c63689 3.15MB / 17.34MB 19.9s\n",
      "#6 sha256:4aaf4c0feac84c0095f842fa458a29a8cddff8afeacaa3ca37a4c36a49c63689 4.19MB / 17.34MB 20.3s\n",
      "#6 sha256:bd73737482dd5575526c7207872963479808d979ab2741c321706b8553918474 53.48MB / 55.05MB 20.7s\n",
      "#6 sha256:4aaf4c0feac84c0095f842fa458a29a8cddff8afeacaa3ca37a4c36a49c63689 5.24MB / 17.34MB 20.7s\n",
      "#6 sha256:4aaf4c0feac84c0095f842fa458a29a8cddff8afeacaa3ca37a4c36a49c63689 6.29MB / 17.34MB 21.0s\n",
      "#6 sha256:bd73737482dd5575526c7207872963479808d979ab2741c321706b8553918474 55.05MB / 55.05MB 21.3s done\n",
      "#6 sha256:4aaf4c0feac84c0095f842fa458a29a8cddff8afeacaa3ca37a4c36a49c63689 7.34MB / 17.34MB 21.4s\n",
      "#6 extracting sha256:bd73737482dd5575526c7207872963479808d979ab2741c321706b8553918474 0.1s\n",
      "#6 sha256:97b2026fe1e1d7a2f2e67759ed64c20d5508ef0ad1600339a078571298fe9624 0B / 245B 21.5s\n",
      "#6 sha256:97b2026fe1e1d7a2f2e67759ed64c20d5508ef0ad1600339a078571298fe9624 245B / 245B 21.5s done\n",
      "#6 sha256:4c82d263ea1798f540d104f61a06e99437573809f3dc73835ba8342b34597869 0B / 3.08MB 21.6s\n",
      "#6 sha256:4aaf4c0feac84c0095f842fa458a29a8cddff8afeacaa3ca37a4c36a49c63689 8.39MB / 17.34MB 21.9s\n",
      "#6 sha256:4aaf4c0feac84c0095f842fa458a29a8cddff8afeacaa3ca37a4c36a49c63689 9.44MB / 17.34MB 22.2s\n",
      "#6 sha256:4c82d263ea1798f540d104f61a06e99437573809f3dc73835ba8342b34597869 1.05MB / 3.08MB 22.2s\n",
      "#6 sha256:4aaf4c0feac84c0095f842fa458a29a8cddff8afeacaa3ca37a4c36a49c63689 10.49MB / 17.34MB 22.5s\n",
      "#6 sha256:4c82d263ea1798f540d104f61a06e99437573809f3dc73835ba8342b34597869 2.10MB / 3.08MB 22.5s\n",
      "#6 sha256:4c82d263ea1798f540d104f61a06e99437573809f3dc73835ba8342b34597869 3.08MB / 3.08MB 22.8s\n",
      "#6 sha256:4aaf4c0feac84c0095f842fa458a29a8cddff8afeacaa3ca37a4c36a49c63689 11.53MB / 17.34MB 22.9s\n",
      "#6 sha256:4c82d263ea1798f540d104f61a06e99437573809f3dc73835ba8342b34597869 3.08MB / 3.08MB 22.8s done\n",
      "#6 sha256:4aaf4c0feac84c0095f842fa458a29a8cddff8afeacaa3ca37a4c36a49c63689 12.58MB / 17.34MB 23.1s\n",
      "#6 sha256:4aaf4c0feac84c0095f842fa458a29a8cddff8afeacaa3ca37a4c36a49c63689 13.63MB / 17.34MB 23.5s\n",
      "#6 sha256:4aaf4c0feac84c0095f842fa458a29a8cddff8afeacaa3ca37a4c36a49c63689 14.68MB / 17.34MB 23.6s\n",
      "#6 sha256:4aaf4c0feac84c0095f842fa458a29a8cddff8afeacaa3ca37a4c36a49c63689 15.73MB / 17.34MB 23.9s\n",
      "#6 sha256:4aaf4c0feac84c0095f842fa458a29a8cddff8afeacaa3ca37a4c36a49c63689 16.78MB / 17.34MB 24.1s\n",
      "#6 sha256:c1e5026c64577dee4b6bac20b18196f964a41d8b9016fbbbada0c70b601cd5bf 19.92MB / 196.85MB 24.3s\n",
      "#6 sha256:4aaf4c0feac84c0095f842fa458a29a8cddff8afeacaa3ca37a4c36a49c63689 17.34MB / 17.34MB 24.2s done\n",
      "#6 extracting sha256:bd73737482dd5575526c7207872963479808d979ab2741c321706b8553918474 3.3s done\n",
      "#6 extracting sha256:6710592d62aa1338ac1c1c363dedc255659f666cc41441c7e0f735c484db10ff\n",
      "#6 extracting sha256:6710592d62aa1338ac1c1c363dedc255659f666cc41441c7e0f735c484db10ff 0.6s done\n",
      "#6 extracting sha256:75256935197ed1bb3b994a77c01efa00349b901014448a260fafd9c3719a741d\n",
      "#6 sha256:c1e5026c64577dee4b6bac20b18196f964a41d8b9016fbbbada0c70b601cd5bf 30.41MB / 196.85MB 27.1s\n",
      "#6 sha256:c1e5026c64577dee4b6bac20b18196f964a41d8b9016fbbbada0c70b601cd5bf 40.89MB / 196.85MB 28.8s\n",
      "#6 extracting sha256:75256935197ed1bb3b994a77c01efa00349b901014448a260fafd9c3719a741d 3.3s done\n",
      "#6 sha256:c1e5026c64577dee4b6bac20b18196f964a41d8b9016fbbbada0c70b601cd5bf 51.38MB / 196.85MB 30.9s\n",
      "#6 sha256:c1e5026c64577dee4b6bac20b18196f964a41d8b9016fbbbada0c70b601cd5bf 61.87MB / 196.85MB 32.3s\n",
      "#6 sha256:c1e5026c64577dee4b6bac20b18196f964a41d8b9016fbbbada0c70b601cd5bf 72.35MB / 196.85MB 33.6s\n",
      "#6 sha256:c1e5026c64577dee4b6bac20b18196f964a41d8b9016fbbbada0c70b601cd5bf 82.84MB / 196.85MB 34.8s\n",
      "#6 sha256:c1e5026c64577dee4b6bac20b18196f964a41d8b9016fbbbada0c70b601cd5bf 93.32MB / 196.85MB 36.8s\n",
      "#6 sha256:c1e5026c64577dee4b6bac20b18196f964a41d8b9016fbbbada0c70b601cd5bf 103.81MB / 196.85MB 38.4s\n",
      "#6 sha256:c1e5026c64577dee4b6bac20b18196f964a41d8b9016fbbbada0c70b601cd5bf 114.29MB / 196.85MB 39.9s\n",
      "#6 sha256:c1e5026c64577dee4b6bac20b18196f964a41d8b9016fbbbada0c70b601cd5bf 125.83MB / 196.85MB 41.2s\n",
      "#6 sha256:c1e5026c64577dee4b6bac20b18196f964a41d8b9016fbbbada0c70b601cd5bf 136.31MB / 196.85MB 42.8s\n",
      "#6 sha256:c1e5026c64577dee4b6bac20b18196f964a41d8b9016fbbbada0c70b601cd5bf 147.85MB / 196.85MB 44.6s\n",
      "#6 sha256:c1e5026c64577dee4b6bac20b18196f964a41d8b9016fbbbada0c70b601cd5bf 159.38MB / 196.85MB 46.2s\n",
      "#6 sha256:c1e5026c64577dee4b6bac20b18196f964a41d8b9016fbbbada0c70b601cd5bf 169.87MB / 196.85MB 47.5s\n",
      "#6 sha256:c1e5026c64577dee4b6bac20b18196f964a41d8b9016fbbbada0c70b601cd5bf 180.36MB / 196.85MB 48.9s\n",
      "#6 sha256:c1e5026c64577dee4b6bac20b18196f964a41d8b9016fbbbada0c70b601cd5bf 190.84MB / 196.85MB 50.3s\n",
      "#6 sha256:c1e5026c64577dee4b6bac20b18196f964a41d8b9016fbbbada0c70b601cd5bf 196.85MB / 196.85MB 51.2s done\n",
      "#6 extracting sha256:c1e5026c64577dee4b6bac20b18196f964a41d8b9016fbbbada0c70b601cd5bf\n",
      "#6 extracting sha256:c1e5026c64577dee4b6bac20b18196f964a41d8b9016fbbbada0c70b601cd5bf 5.1s\n",
      "#6 extracting sha256:c1e5026c64577dee4b6bac20b18196f964a41d8b9016fbbbada0c70b601cd5bf 8.2s done\n",
      "#6 extracting sha256:f0016544b8b99a7e91472b231a8eb1af0aede28806efc821c60ca20b65fc1eb8\n",
      "#6 extracting sha256:f0016544b8b99a7e91472b231a8eb1af0aede28806efc821c60ca20b65fc1eb8 0.4s done\n",
      "#6 extracting sha256:4aaf4c0feac84c0095f842fa458a29a8cddff8afeacaa3ca37a4c36a49c63689\n",
      "#6 extracting sha256:4aaf4c0feac84c0095f842fa458a29a8cddff8afeacaa3ca37a4c36a49c63689 0.7s done\n",
      "#6 extracting sha256:97b2026fe1e1d7a2f2e67759ed64c20d5508ef0ad1600339a078571298fe9624\n",
      "#6 extracting sha256:97b2026fe1e1d7a2f2e67759ed64c20d5508ef0ad1600339a078571298fe9624 done\n",
      "#6 extracting sha256:4c82d263ea1798f540d104f61a06e99437573809f3dc73835ba8342b34597869 0.1s\n",
      "#6 extracting sha256:4c82d263ea1798f540d104f61a06e99437573809f3dc73835ba8342b34597869 0.7s done\n",
      "#6 DONE 62.1s\n",
      "\n",
      "#7 [2/5] WORKDIR /calc_app\n",
      "#7 DONE 0.2s\n",
      "\n",
      "#8 [3/5] COPY . /calc_app\n",
      "#8 DONE 0.0s\n",
      "\n",
      "#9 [4/5] ADD calc_app.py .\n",
      "#9 DONE 0.0s\n",
      "\n",
      "#10 [5/5] RUN pip install numpy\n",
      "#10 2.661 Collecting numpy\n",
      "#10 2.915   Downloading numpy-1.26.4-cp310-cp310-manylinux_2_17_x86_64.manylinux2014_x86_64.whl (18.2 MB)\n",
      "#10 6.336      ━━━━━━━━━━━━━━━━━━━━━━━━━━━━━━━━━━━━━━━━ 18.2/18.2 MB 6.5 MB/s eta 0:00:00\n",
      "#10 6.456 Installing collected packages: numpy\n",
      "#10 8.527 Successfully installed numpy-1.26.4\n",
      "#10 8.528 WARNING: Running pip as the 'root' user can result in broken permissions and conflicting behaviour with the system package manager. It is recommended to use a virtual environment instead: https://pip.pypa.io/warnings/venv\n",
      "#10 8.726 \n",
      "#10 8.726 [notice] A new release of pip is available: 23.0.1 -> 24.0\n",
      "#10 8.726 [notice] To update, run: pip install --upgrade pip\n",
      "#10 DONE 8.9s\n",
      "\n",
      "#11 exporting to image\n",
      "#11 exporting layers\n",
      "#11 exporting layers 0.5s done\n",
      "#11 writing image sha256:1502385b7dd2768f861a91fa83d6d7b5f8ed832f9e551d52e622cc376ed7212c done\n",
      "#11 naming to docker.io/library/calculator done\n",
      "#11 DONE 0.6s\n",
      "WARNING: current commit information was not captured by the build: git was not found in the system: exec: \"git.exe\": executable file not found in %PATH%\n"
     ]
    }
   ],
   "source": [
    "# build an image with docker\n",
    "!docker build -t calculator ."
   ]
  },
  {
   "cell_type": "code",
   "execution_count": 2,
   "metadata": {},
   "outputs": [
    {
     "name": "stderr",
     "output_type": "stream",
     "text": [
      "the input device is not a TTY.  If you are using mintty, try prefixing the command with 'winpty'\n"
     ]
    }
   ],
   "source": [
    "# to run our app from the container\n",
    "!docker run -i -t calculator"
   ]
  },
  {
   "cell_type": "markdown",
   "metadata": {},
   "source": [
    "# Kubernetes"
   ]
  },
  {
   "cell_type": "code",
   "execution_count": 3,
   "metadata": {},
   "outputs": [
    {
     "name": "stdout",
     "output_type": "stream",
     "text": [
      "^C\n"
     ]
    }
   ],
   "source": [
    "!minikube start"
   ]
  },
  {
   "cell_type": "code",
   "execution_count": null,
   "metadata": {},
   "outputs": [],
   "source": [
    "# to check the status of minikube\n",
    "!minikube status"
   ]
  },
  {
   "cell_type": "code",
   "execution_count": null,
   "metadata": {},
   "outputs": [],
   "source": [
    "# to deploy an image\n",
    "!kubectl create deployment deployment --image=gcr.io/google-samples/kubernetes-bootcamp:v1"
   ]
  },
  {
   "cell_type": "code",
   "execution_count": null,
   "metadata": {},
   "outputs": [],
   "source": [
    "# to check pods, nodes, deployments, and services\n",
    "!kubectl get pods\n",
    "!kubectl get nodes\n",
    "!kubectl get deployments\n",
    "!kubectl get services"
   ]
  },
  {
   "cell_type": "code",
   "execution_count": null,
   "metadata": {},
   "outputs": [],
   "source": [
    "# to bring up the minikube GUI dashboard\n",
    "!minikube dashboard"
   ]
  },
  {
   "cell_type": "code",
   "execution_count": null,
   "metadata": {},
   "outputs": [],
   "source": [
    "# allow your machine to talk to Kubernetes API\n",
    "!kubectl proxy"
   ]
  },
  {
   "cell_type": "code",
   "execution_count": null,
   "metadata": {},
   "outputs": [],
   "source": [
    "# HTTP GET request to get data from server\n",
    "!curl http://localhost:8001/version "
   ]
  },
  {
   "cell_type": "code",
   "execution_count": null,
   "metadata": {},
   "outputs": [],
   "source": [
    "# look at environment variables of the container\n",
    "!kubectl exec POD_NAME --env"
   ]
  },
  {
   "cell_type": "code",
   "execution_count": null,
   "metadata": {},
   "outputs": [],
   "source": [
    "# to create a service\n",
    "!kubectl expose deployment/kubernetes-bootcamp --type=\"NodePort\" --port 8080"
   ]
  },
  {
   "cell_type": "code",
   "execution_count": null,
   "metadata": {},
   "outputs": [],
   "source": [
    "# check your service\n",
    "!kubectl get services"
   ]
  },
  {
   "cell_type": "code",
   "execution_count": null,
   "metadata": {},
   "outputs": [],
   "source": [
    "# to look at your app\n",
    "!minikube service kubernetes-bootcamp"
   ]
  },
  {
   "cell_type": "code",
   "execution_count": null,
   "metadata": {},
   "outputs": [],
   "source": [
    "# to stop minikube\n",
    "!minikube stop\n",
    "\n",
    "# to delete everything on the cluster\n",
    "!minikube delete --all"
   ]
  },
  {
   "cell_type": "markdown",
   "metadata": {},
   "source": [
    "# Create a Development Environment"
   ]
  },
  {
   "cell_type": "code",
   "execution_count": null,
   "metadata": {},
   "outputs": [],
   "source": [
    "# deploy services created in .yaml files\n",
    "!apply -f mysql-service.yaml\n",
    "!apply -f mysql-deployment.yaml"
   ]
  },
  {
   "cell_type": "code",
   "execution_count": null,
   "metadata": {},
   "outputs": [],
   "source": [
    "# check deployment\n",
    "!kubectl get pods\n",
    "!kubectl get services"
   ]
  },
  {
   "cell_type": "code",
   "execution_count": null,
   "metadata": {},
   "outputs": [],
   "source": [
    "# access your service\n",
    "!kubectl exec -it mysql-"
   ]
  },
  {
   "cell_type": "markdown",
   "metadata": {},
   "source": [
    "# Expose the Environment for Others"
   ]
  },
  {
   "cell_type": "code",
   "execution_count": null,
   "metadata": {},
   "outputs": [],
   "source": []
  },
  {
   "cell_type": "markdown",
   "metadata": {},
   "source": [
    "# Access the Environment from a Remote Host"
   ]
  },
  {
   "cell_type": "code",
   "execution_count": null,
   "metadata": {},
   "outputs": [],
   "source": []
  }
 ],
 "metadata": {
  "kernelspec": {
   "display_name": "Python 3",
   "language": "python",
   "name": "python3"
  },
  "language_info": {
   "codemirror_mode": {
    "name": "ipython",
    "version": 3
   },
   "file_extension": ".py",
   "mimetype": "text/x-python",
   "name": "python",
   "nbconvert_exporter": "python",
   "pygments_lexer": "ipython3",
   "version": "3.10.11"
  }
 },
 "nbformat": 4,
 "nbformat_minor": 2
}
